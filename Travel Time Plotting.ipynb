{
 "cells": [
  {
   "cell_type": "code",
   "execution_count": 1,
   "id": "f70e5cfb",
   "metadata": {},
   "outputs": [],
   "source": [
    "%matplotlib inline\n",
    "import numpy as np\n",
    "import matplotlib.pyplot as plt\n",
    "import pandas as pd\n",
    "import scipy.stats as st"
   ]
  },
  {
   "cell_type": "code",
   "execution_count": 2,
   "id": "d85b6b6f",
   "metadata": {},
   "outputs": [],
   "source": [
    "### JUST THROWING IDEA HOW WE CAN PLAY AROUND PLOTTING IDEA  ###"
   ]
  },
  {
   "cell_type": "code",
   "execution_count": 3,
   "id": "7c548c59",
   "metadata": {},
   "outputs": [],
   "source": [
    "# line chart : (across the state) Y: work travel time & house index changes - - X: years\n",
    "# bart chart : top 10 county having least & most travel time to work "
   ]
  },
  {
   "cell_type": "code",
   "execution_count": 4,
   "id": "175ca1b1",
   "metadata": {},
   "outputs": [],
   "source": [
    "# Correlation between house index changes and travel out of county\n",
    "# Correlation between house index changes and travel time to work "
   ]
  },
  {
   "cell_type": "code",
   "execution_count": null,
   "id": "78819dfc",
   "metadata": {},
   "outputs": [],
   "source": [
    "# T Test? on how house index affects "
   ]
  }
 ],
 "metadata": {
  "kernelspec": {
   "display_name": "Python 3 (ipykernel)",
   "language": "python",
   "name": "python3"
  },
  "language_info": {
   "codemirror_mode": {
    "name": "ipython",
    "version": 3
   },
   "file_extension": ".py",
   "mimetype": "text/x-python",
   "name": "python",
   "nbconvert_exporter": "python",
   "pygments_lexer": "ipython3",
   "version": "3.9.7"
  }
 },
 "nbformat": 4,
 "nbformat_minor": 5
}

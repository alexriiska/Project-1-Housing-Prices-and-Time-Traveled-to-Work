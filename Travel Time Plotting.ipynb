{
 "cells": [
  {
   "cell_type": "code",
   "execution_count": 1,
   "id": "f6a4369f",
   "metadata": {},
   "outputs": [],
   "source": [
    "%matplotlib inline\n",
    "import numpy as np\n",
    "import matplotlib.pyplot as plt\n",
    "import pandas as pd\n",
    "import scipy.stats as st"
   ]
  },
  {
   "cell_type": "code",
   "execution_count": 2,
   "id": "7bdca360",
   "metadata": {},
   "outputs": [],
   "source": [
    "### JUST THROWING IDEA HOW WE CAN PLAY AROUND PLOTTING IDEA  ###"
   ]
  },
  {
   "cell_type": "code",
   "execution_count": 3,
   "id": "90319441",
   "metadata": {},
   "outputs": [],
   "source": [
    "# line chart : (across the state) Y: work travel time & house index changes - - X: years\n",
    "# bart chart : top 10 county having least & most travel time to work "
   ]
  },
  {
   "cell_type": "code",
   "execution_count": 4,
   "id": "bcfde75b",
   "metadata": {},
   "outputs": [],
   "source": [
    "# Correlation between house index changes and travel out of county\n",
    "# Correlation between house index changes and travel time to work "
   ]
  },
  {
   "cell_type": "code",
   "execution_count": 1,
   "id": "2b08510d",
   "metadata": {},
   "outputs": [],
   "source": [
    "# T Test? on how house index affects travel time OR travel out of state \n",
    "# which states being affected the most and the least "
   ]
  },
  {
   "cell_type": "code",
   "execution_count": 3,
   "id": "3ffb2b8b",
   "metadata": {},
   "outputs": [
    {
     "ename": "NameError",
     "evalue": "name 'travel_hpi' is not defined",
     "output_type": "error",
     "traceback": [
      "\u001b[1;31m---------------------------------------------------------------------------\u001b[0m",
      "\u001b[1;31mNameError\u001b[0m                                 Traceback (most recent call last)",
      "\u001b[1;32m~\\AppData\\Local\\Temp/ipykernel_38064/139547033.py\u001b[0m in \u001b[0;36m<module>\u001b[1;34m\u001b[0m\n\u001b[1;32m----> 1\u001b[1;33m \u001b[0mtravel_hpi\u001b[0m\u001b[1;33m.\u001b[0m\u001b[0mplot\u001b[0m\u001b[1;33m(\u001b[0m\u001b[0mkind\u001b[0m \u001b[1;33m=\u001b[0m \u001b[1;34m'scatter'\u001b[0m\u001b[1;33m,\u001b[0m \u001b[0mx\u001b[0m \u001b[1;33m=\u001b[0m\u001b[1;34m'Yearly Average Index (SA)'\u001b[0m\u001b[1;33m,\u001b[0m \u001b[0my\u001b[0m\u001b[1;33m=\u001b[0m \u001b[1;34m'Estiamte Aggregate Travel Time (min)'\u001b[0m\u001b[1;33m,\u001b[0m \u001b[0mgrid\u001b[0m \u001b[1;33m=\u001b[0m \u001b[1;32mTrue\u001b[0m\u001b[1;33m,\u001b[0m \u001b[0mfigsize\u001b[0m \u001b[1;33m=\u001b[0m \u001b[1;33m(\u001b[0m\u001b[1;36m8\u001b[0m\u001b[1;33m,\u001b[0m\u001b[1;36m8\u001b[0m\u001b[1;33m)\u001b[0m\u001b[1;33m,\u001b[0m \u001b[0mtitle\u001b[0m \u001b[1;33m=\u001b[0m \u001b[1;34m\"HIP vs Travel Time to Work\"\u001b[0m\u001b[1;33m)\u001b[0m\u001b[1;33m\u001b[0m\u001b[1;33m\u001b[0m\u001b[0m\n\u001b[0m",
      "\u001b[1;31mNameError\u001b[0m: name 'travel_hpi' is not defined"
     ]
    }
   ],
   "source": [
    "travel_hpi.plot(kind = 'scatter', x ='Yearly Average Index (SA)', y= 'Estiamte Aggregate Travel Time (min)', grid = True, figsize = (8,8), title = \"HIP vs Travel Time to Work\")"
   ]
  },
  {
   "cell_type": "code",
   "execution_count": null,
   "id": "361b0879",
   "metadata": {},
   "outputs": [],
   "source": [
    "# line chart : (across the state) Y: work travel time & house index changes - - X: years\n",
    "%matplotlib inline\n",
    "import matplotlib.pyplot as plt\n",
    "import numpy as np\n",
    "yearhpi = travel_hpi[['Year', 'Yearly Average Index (NSA)']]\n",
    "yeartravel = travel_hpi[['Year', 'Estiamte Aggregate Travel Time (min)']]\n",
    "\n",
    "yearhpigroup = yearhpi.groupby('Year').mean('Yearly Average Index (NSA)')\n",
    "yeartravelgroup = yeartravel.groupby('Year').mean('Estiamte Aggregate Travel Time (min)')\n",
    "yearhpiline = plt.plot(yearhpigroup)\n",
    "yeartravelline = plt.plot(yeartravelgroup)"
   ]
  }
 ],
 "metadata": {
  "kernelspec": {
   "display_name": "Python 3 (ipykernel)",
   "language": "python",
   "name": "python3"
  },
  "language_info": {
   "codemirror_mode": {
    "name": "ipython",
    "version": 3
   },
   "file_extension": ".py",
   "mimetype": "text/x-python",
   "name": "python",
   "nbconvert_exporter": "python",
   "pygments_lexer": "ipython3",
   "version": "3.9.7"
  }
 },
 "nbformat": 4,
 "nbformat_minor": 5
}

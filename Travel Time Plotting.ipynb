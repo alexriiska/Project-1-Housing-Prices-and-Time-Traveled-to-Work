{
 "cells": [
  {
   "cell_type": "code",
   "execution_count": 1,
   "id": "f6a4369f",
   "metadata": {},
   "outputs": [],
   "source": [
    "%matplotlib inline\n",
    "import numpy as np\n",
    "import matplotlib.pyplot as plt\n",
    "import pandas as pd\n",
    "import scipy.stats as st"
   ]
  },
  {
   "cell_type": "code",
   "execution_count": 2,
   "id": "7bdca360",
   "metadata": {},
   "outputs": [],
   "source": [
    "### JUST THROWING IDEA HOW WE CAN PLAY AROUND PLOTTING IDEA  ###"
   ]
  },
  {
   "cell_type": "code",
   "execution_count": 3,
   "id": "90319441",
   "metadata": {},
   "outputs": [],
   "source": [
    "# line chart : (across the state) Y: work travel time & house index changes - - X: years\n",
    "# bart chart : top 10 county having least & most travel time to work "
   ]
  },
  {
   "cell_type": "code",
   "execution_count": 4,
   "id": "bcfde75b",
   "metadata": {},
   "outputs": [],
   "source": [
    "# Correlation between house index changes and travel out of county\n",
    "# Correlation between house index changes and travel time to work "
   ]
  },
  {
   "cell_type": "code",
   "execution_count": null,
   "id": "2b08510d",
   "metadata": {},
   "outputs": [],
   "source": [
    "# T Test? on how house index affects travel time OR travel out of state \n",
    "# which states being affected the most and the least "
   ]
  }
 ],
 "metadata": {
  "kernelspec": {
   "display_name": "Python 3 (ipykernel)",
   "language": "python",
   "name": "python3"
  },
  "language_info": {
   "codemirror_mode": {
    "name": "ipython",
    "version": 3
   },
   "file_extension": ".py",
   "mimetype": "text/x-python",
   "name": "python",
   "nbconvert_exporter": "python",
   "pygments_lexer": "ipython3",
   "version": "3.9.7"
  }
 },
 "nbformat": 4,
 "nbformat_minor": 5
}

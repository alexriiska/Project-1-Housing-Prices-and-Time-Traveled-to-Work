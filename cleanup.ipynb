{
 "cells": [
  {
   "cell_type": "code",
   "execution_count": null,
   "metadata": {},
   "outputs": [],
   "source": [
    "# Importing dependencies \n",
    "import pandas as pd\n",
    "import numpy as np\n",
    "import scipy.stats as st\n",
    "\n",
    "# Creating path names\n",
    "census_path = 'Resouces/.csv'\n",
    "travel_path = 'Resources/.csv'\n",
    "hpi_path = 'Resources/.csv'\n",
    "\n",
    "\n",
    "# Opening each path as a csv\n",
    "census = pd.read_csv(census_path)\n",
    "travel = pd.read_csv(travel_path)\n",
    "hpi = pd.read_csv(hpi_path)"
   ]
  },
  {
   "cell_type": "markdown",
   "metadata": {},
   "source": [
    "# HPI Summary"
   ]
  },
  {
   "cell_type": "code",
   "execution_count": null,
   "metadata": {},
   "outputs": [],
   "source": []
  },
  {
   "cell_type": "markdown",
   "metadata": {},
   "source": [
    "# Time Traveled to Work Summary"
   ]
  }
 ],
 "metadata": {
  "language_info": {
   "name": "python"
  },
  "orig_nbformat": 4
 },
 "nbformat": 4,
 "nbformat_minor": 2
}
